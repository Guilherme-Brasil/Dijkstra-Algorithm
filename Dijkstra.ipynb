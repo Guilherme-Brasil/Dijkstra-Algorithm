{
  "nbformat": 4,
  "nbformat_minor": 0,
  "metadata": {
    "colab": {
      "provenance": [],
      "authorship_tag": "ABX9TyO4hiklIbwAYaefPgWS+GY3"
    },
    "kernelspec": {
      "name": "python3",
      "display_name": "Python 3"
    },
    "language_info": {
      "name": "python"
    }
  },
  "cells": [
    {
      "cell_type": "markdown",
      "source": [
        "# **Dijkstra Algorithm**"
      ],
      "metadata": {
        "id": "92aR1bVP_vH6"
      }
    },
    {
      "cell_type": "code",
      "execution_count": 65,
      "metadata": {
        "id": "z0uRlZsC_PCB"
      },
      "outputs": [],
      "source": [
        "#Libraries\n",
        "import heapq"
      ]
    },
    {
      "cell_type": "code",
      "source": [
        "#Heap Function Manipulation\n",
        "def change_priority(w, D):\n",
        "  for i in range(len(D)):\n",
        "    if D[i][1] == w:\n",
        "      pos = i\n",
        "      break\n",
        "  D[pos] = (L[w], w)\n",
        "  heapq._siftdown(D, 0, pos)\n",
        "  return"
      ],
      "metadata": {
        "id": "mirWXWNL_oaF"
      },
      "execution_count": 66,
      "outputs": []
    },
    {
      "cell_type": "code",
      "source": [
        "#Cost Matrix\n",
        "cost = []\n",
        "infty = 9999\n",
        "#infinity number"
      ],
      "metadata": {
        "id": "Y9ONwfoyC8jb"
      },
      "execution_count": 67,
      "outputs": []
    },
    {
      "cell_type": "code",
      "source": [
        "#Reading Cost Matrix\n",
        "n, m = input().split()\n",
        "#n -> number of vertices\n",
        "#m -> number of arcs"
      ],
      "metadata": {
        "id": "-cSRZh08An5x"
      },
      "execution_count": null,
      "outputs": []
    },
    {
      "cell_type": "code",
      "source": [
        "#Integer Values\n",
        "n = int(n)\n",
        "m = int(m)"
      ],
      "metadata": {
        "id": "rMva0vj4CEzU"
      },
      "execution_count": 69,
      "outputs": []
    },
    {
      "cell_type": "code",
      "source": [
        "#Defining Cost Matrix\n",
        "for i in range(n):\n",
        "  line = []\n",
        "  for j in range(n):\n",
        "    if i == j:\n",
        "      line.append(0)\n",
        "    else:\n",
        "      line.append(infty)\n",
        "  cost.append(line)"
      ],
      "metadata": {
        "id": "EJixpA_sDZNt"
      },
      "execution_count": 70,
      "outputs": []
    },
    {
      "cell_type": "code",
      "source": [
        "#Output Neighborhood\n",
        "n_out = [[] * n for i in range(n)]\n",
        "#Python defines empty lists at this way"
      ],
      "metadata": {
        "id": "XaWSsPCkCGjd"
      },
      "execution_count": 71,
      "outputs": []
    },
    {
      "cell_type": "code",
      "source": [
        "#Reading Arcs\n",
        "for j in range(m):\n",
        "  #Read arc A to B with cost C\n",
        "  a, b, c = input().split()\n",
        "  a = int(a)\n",
        "  b = int(b)\n",
        "  c = int(c)\n",
        "  #Adding B on output neighborhood of A\n",
        "  n_out[a].append(b)\n",
        "  cost[a][b] = c"
      ],
      "metadata": {
        "id": "5bWSBmhWE5Jq"
      },
      "execution_count": null,
      "outputs": []
    },
    {
      "cell_type": "code",
      "source": [
        "#Unchecking Vertices\n",
        "check = n * [0]\n",
        "L = n *[infty]"
      ],
      "metadata": {
        "id": "8oGXKk_PGOyZ"
      },
      "execution_count": 73,
      "outputs": []
    },
    {
      "cell_type": "code",
      "source": [
        "#Root\n",
        "root = 0 #The graph root is vertex 0\n",
        "L[root] = 0"
      ],
      "metadata": {
        "id": "Ik1ivMCXGiry"
      },
      "execution_count": 74,
      "outputs": []
    },
    {
      "cell_type": "code",
      "source": [
        "#Heap Begins\n",
        "D = [(0, root)] #root with cost 0\n",
        "for w in range(0, n):\n",
        "  if w != root:\n",
        "    heapq.heappush(D, (L[w], w)) #D is the heap name\n",
        "prev = n * [-1] #-1 means null and prev is the previous vertex\n",
        "\n",
        "while D != []:\n",
        "  Lmin, v = heapq.heappop(D) #Remove the root\n",
        "  check[v] = 1\n",
        "  for w in n_out[v]:\n",
        "    if check[w] == 0:\n",
        "      if L[v] + cost[v][w] < L[w]:\n",
        "        L[w] = L[v] + cost[v][w] #Update L[w]\n",
        "        change_priority(w, D) #Update heap\n",
        "        prev[w] = v"
      ],
      "metadata": {
        "id": "qcaXvA4IHu4C"
      },
      "execution_count": 75,
      "outputs": []
    },
    {
      "cell_type": "code",
      "source": [
        "print(v) #Final Vertex\n",
        "print(L) #Cost\n",
        "print(prev) #Previous Vertex"
      ],
      "metadata": {
        "id": "ow6QCiSdTMf2"
      },
      "execution_count": null,
      "outputs": []
    }
  ]
}